{
 "cells": [
  {
   "cell_type": "markdown",
   "metadata": {},
   "source": [
    "###### Анализ доходов в Jupyter Notebook"
   ]
  },
  {
   "cell_type": "code",
   "execution_count": 11,
   "metadata": {},
   "outputs": [
    {
     "name": "stdout",
     "output_type": "stream",
     "text": [
      "Расчет при увольнении 2020-02-05 00:00:00 4266.76 Прочие поступления\n",
      "Расчет при увольнении 2020-02-05 00:00:00 9558.44 Прочие поступления\n",
      "TINKOFF BANK 2020-01-26 00:00:00 1080.0 Перевод на карту\n",
      "Зачисление стипендии 2020-01-24 00:00:00 3332.0 Прочие поступления\n",
      "Зачисление стипендии 2020-01-24 00:00:00 3332.0 Прочие поступления\n",
      "...\n"
     ]
    }
   ],
   "source": [
    "import analyze\n",
    "from parse import incomes\n",
    "import matplotlib.pyplot as plt\n",
    "\n",
    "incomes_list = incomes()\n",
    "\n",
    "for i in range(5):\n",
    "    name = incomes_list[i]['name']\n",
    "    date_to_plot = incomes_list[i]['date_to_plot']\n",
    "    summ = incomes_list[i]['summ']\n",
    "    cat = incomes_list[i]['cat']\n",
    "    print(name, date_to_plot, summ, cat)\n",
    "    \n",
    "print('...')"
   ]
  },
  {
   "cell_type": "markdown",
   "metadata": {},
   "source": [
    "- Всего поступлений:"
   ]
  },
  {
   "cell_type": "code",
   "execution_count": 6,
   "metadata": {},
   "outputs": [
    {
     "name": "stdout",
     "output_type": "stream",
     "text": [
      "88\n"
     ]
    }
   ],
   "source": [
    "print(len(incomes_list))"
   ]
  },
  {
   "cell_type": "markdown",
   "metadata": {},
   "source": [
    "... на сумму:"
   ]
  },
  {
   "cell_type": "code",
   "execution_count": 31,
   "metadata": {},
   "outputs": [
    {
     "name": "stdout",
     "output_type": "stream",
     "text": [
      "370563.0\n"
     ]
    }
   ],
   "source": [
    "s = 0\n",
    "for i in incomes_list:\n",
    "    s += i['summ']\n",
    "    \n",
    "print(s // 1)"
   ]
  },
  {
   "cell_type": "markdown",
   "metadata": {},
   "source": [
    "- График Scatter всех зачислений за период"
   ]
  },
  {
   "cell_type": "code",
   "execution_count": 5,
   "metadata": {
    "scrolled": false
   },
   "outputs": [
    {
     "data": {
      "image/png": "[encoded data removed]",
      "text/plain": [
       "<Figure size 432x288 with 1 Axes>"
      ]
     },
     "metadata": {
      "needs_background": "light"
     },
     "output_type": "display_data"
    },
    {
     "data": {
      "text/plain": [
       "<Figure size 864x864 with 0 Axes>"
      ]
     },
     "metadata": {},
     "output_type": "display_data"
    }
   ],
   "source": [
    "%matplotlib inline\n",
    "\n",
    "DATES = list()\n",
    "SUMS = list()\n",
    "\n",
    "for i in incomes_list:\n",
    "    DATES.append(i['date_to_plot'])\n",
    "    SUMS.append(i['summ'])\n",
    "\n",
    "plt.scatter(DATES, SUMS)\n",
    "# plt.savefig('./outputs/incomes_scatter.png')\n",
    "width = 12\n",
    "height = 12\n",
    "plt.figure(figsize=(width, height))\n",
    "# plt.rcParams['figure.dpi'] = 150 # default for me was 75\n",
    "plt.show()"
   ]
  },
  {
   "cell_type": "markdown",
   "metadata": {},
   "source": [
    "- Средняя месячная зар. плата:"
   ]
  },
  {
   "cell_type": "code",
   "execution_count": 3,
   "metadata": {},
   "outputs": [
    {
     "name": "stdout",
     "output_type": "stream",
     "text": [
      "30880.28916666667\n"
     ]
    }
   ],
   "source": [
    "average = sum(SUMS)/12\n",
    "print(average)"
   ]
  },
  {
   "cell_type": "markdown",
   "metadata": {},
   "source": [
    "- Столбчатая диаграмма помесячно"
   ]
  },
  {
   "cell_type": "code",
   "execution_count": 12,
   "metadata": {},
   "outputs": [
    {
     "name": "stdout",
     "output_type": "stream",
     "text": [
      "1 7744.0\n",
      "2 28185.38\n",
      "3 24034.5\n",
      "4 25518.5\n",
      "5 31556.510000000002\n",
      "6 37983.74\n",
      "7 9464.52\n",
      "8 28272.39\n",
      "9 45242.14\n",
      "10 25477.86\n",
      "11 36440.49\n",
      "12 70643.44\n"
     ]
    }
   ],
   "source": [
    "per_month_list = analyze.plot_per_month(incomes_list)\n",
    "\n",
    "for i in range(len(per_month_list)):\n",
    "    print(i+1, per_month_list[i])"
   ]
  },
  {
   "cell_type": "code",
   "execution_count": 28,
   "metadata": {},
   "outputs": [
    {
     "data": {
      "text/plain": [
       "<BarContainer object of 12 artists>"
      ]
     },
     "execution_count": 28,
     "metadata": {},
     "output_type": "execute_result"
    },
    {
     "data": {
      "image/png": "[encoded data removed]",
      "text/plain": [
       "<Figure size 432x288 with 1 Axes>"
      ]
     },
     "metadata": {
      "needs_background": "light"
     },
     "output_type": "display_data"
    }
   ],
   "source": [
    "# x = range(1,13)\n",
    "x = ('Янв', 'Фев', 'Март', 'Апр', 'Май', 'Июнь', 'Июль', 'Авг', 'Сен', 'Окт', 'Ноя', 'Дек')\n",
    "plt.bar(x, per_month_list)\n",
    "# plt.show()"
   ]
  },
  {
   "cell_type": "markdown",
   "metadata": {},
   "source": [
    "***Сразу видно, что январь и июль - месяца после сессии, хе-хе***"
   ]
  },
  {
   "cell_type": "code",
   "execution_count": null,
   "metadata": {},
   "outputs": [],
   "source": []
  }
 ],
 "metadata": {
  "kernelspec": {
   "display_name": "Python 3",
   "language": "python",
   "name": "python3"
  },
  "language_info": {
   "codemirror_mode": {
    "name": "ipython",
    "version": 3
   },
   "file_extension": ".py",
   "mimetype": "text/x-python",
   "name": "python",
   "nbconvert_exporter": "python",
   "pygments_lexer": "ipython3",
   "version": "3.7.4"
  }
 },
 "nbformat": 4,
 "nbformat_minor": 2
}
