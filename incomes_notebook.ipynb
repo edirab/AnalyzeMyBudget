{
 "cells": [
  {
   "cell_type": "markdown",
   "metadata": {},
   "source": [
    "###### Анализ доходов в Jupyter Notebook\n",
    "за период с 4 февраля 2019 года по 5 февраля 2020 года"
   ]
  },
  {
   "cell_type": "code",
   "execution_count": 1,
   "metadata": {
    "pycharm": {
     "is_executing": false
    }
   },
   "outputs": [
    {
     "name": "stdout",
     "output_type": "stream",
     "text": [
      "(79, 8, 1, 0)\n",
      "Расчет при увольнении 2020-02-05 00:00:00 4266.76 Прочие поступления\n",
      "Расчет при увольнении 2020-02-05 00:00:00 9558.44 Прочие поступления\n",
      "TINKOFF BANK 2020-01-26 00:00:00 1080.0 Перевод на карту\n",
      "Зачисление стипендии 2020-01-24 00:00:00 3332.0 Прочие поступления\n",
      "Зачисление стипендии 2020-01-24 00:00:00 3332.0 Прочие поступления\n",
      "...\n"
     ]
    }
   ],
   "source": [
    "%matplotlib inline\n",
    "\n",
    "import analyze\n",
    "from parse import incomes\n",
    "import matplotlib.pyplot as plt\n",
    "\n",
    "incomes_list = incomes()\n",
    "\n",
    "for i in range(5):\n",
    "    name = incomes_list[i]['name']\n",
    "    date_to_plot = incomes_list[i]['date_to_plot']\n",
    "    summ = incomes_list[i]['summ']\n",
    "    cat = incomes_list[i]['cat']\n",
    "    print(name, date_to_plot, summ, cat)\n",
    "    \n",
    "print('...')"
   ]
  },
  {
   "cell_type": "markdown",
   "metadata": {},
   "source": [
    "- Всего поступлений:"
   ]
  },
  {
   "cell_type": "code",
   "execution_count": 2,
   "metadata": {
    "pycharm": {
     "is_executing": false
    }
   },
   "outputs": [
    {
     "name": "stdout",
     "output_type": "stream",
     "text": [
      "88\n"
     ]
    }
   ],
   "source": [
    "print(len(incomes_list))"
   ]
  },
  {
   "cell_type": "markdown",
   "metadata": {},
   "source": [
    "... на сумму:"
   ]
  },
  {
   "cell_type": "code",
   "execution_count": 3,
   "metadata": {
    "pycharm": {
     "is_executing": false
    }
   },
   "outputs": [
    {
     "name": "stdout",
     "output_type": "stream",
     "text": [
      "370563.0\n"
     ]
    }
   ],
   "source": [
    "s = 0\n",
    "for i in incomes_list:\n",
    "    s += i['summ']\n",
    "    \n",
    "print(s // 1)"
   ]
  },
  {
   "cell_type": "markdown",
   "metadata": {},
   "source": [
    "- График Scatter всех зачислений за период"
   ]
  },
  {
   "cell_type": "code",
   "execution_count": 4,
   "metadata": {
    "pycharm": {
     "is_executing": false
    },
    "scrolled": false
   },
   "outputs": [
    {
     "data": {
      "image/png": "[encoded data removed]",
      "text/plain": [
       "<Figure size 432x288 with 1 Axes>"
      ]
     },
     "metadata": {
      "needs_background": "light"
     },
     "output_type": "display_data"
    },
    {
     "data": {
      "text/plain": [
       "<Figure size 864x864 with 0 Axes>"
      ]
     },
     "metadata": {},
     "output_type": "display_data"
    }
   ],
   "source": [
    "%matplotlib inline\n",
    "\n",
    "DATES = [d['date_to_plot'] for d in incomes_list]\n",
    "SUMS = [s['summ'] for s in incomes_list]\n",
    "\n",
    "plt.scatter(DATES, SUMS, color='g')\n",
    "# plt.savefig('./outputs/incomes_scatter.png')\n",
    "width = 12\n",
    "height = 12\n",
    "plt.figure(figsize=(width, height))\n",
    "# plt.rcParams['figure.dpi'] = 150 # default for me was 75\n",
    "plt.show()"
   ]
  },
  {
   "cell_type": "markdown",
   "metadata": {},
   "source": [
    "- Средняя месячная зар. плата:"
   ]
  },
  {
   "cell_type": "code",
   "execution_count": 5,
   "metadata": {
    "pycharm": {
     "is_executing": false
    }
   },
   "outputs": [
    {
     "name": "stdout",
     "output_type": "stream",
     "text": [
      "30880.28916666667\n"
     ]
    }
   ],
   "source": [
    "average = sum(SUMS)/12\n",
    "print(average)"
   ]
  },
  {
   "cell_type": "markdown",
   "metadata": {},
   "source": [
    "- Столбчатая диаграмма помесячно"
   ]
  },
  {
   "cell_type": "code",
   "execution_count": 6,
   "metadata": {
    "pycharm": {
     "is_executing": false
    }
   },
   "outputs": [
    {
     "name": "stdout",
     "output_type": "stream",
     "text": [
      "1 7744.0\n",
      "2 28185.38\n",
      "3 24034.5\n",
      "4 25518.5\n",
      "5 31556.510000000002\n",
      "6 37983.74\n",
      "7 9464.52\n",
      "8 28272.39\n",
      "9 45242.14\n",
      "10 25477.86\n",
      "11 36440.49\n",
      "12 70643.44\n"
     ]
    }
   ],
   "source": [
    "per_month_list = analyze.plot_per_month(incomes_list)\n",
    "\n",
    "for i in range(len(per_month_list)):\n",
    "    print(i+1, per_month_list[i])"
   ]
  },
  {
   "cell_type": "code",
   "execution_count": 7,
   "metadata": {
    "pycharm": {
     "is_executing": false
    }
   },
   "outputs": [
    {
     "data": {
      "image/png": "[encoded data removed]",
      "text/plain": [
       "<Figure size 432x288 with 1 Axes>"
      ]
     },
     "metadata": {
      "needs_background": "light"
     },
     "output_type": "display_data"
    },
    {
     "data": {
      "text/plain": [
       "<Figure size 1440x720 with 0 Axes>"
      ]
     },
     "metadata": {},
     "output_type": "display_data"
    }
   ],
   "source": [
    "monthes_axis = ('Янв', 'Фев', 'Март', 'Апр', 'Май', 'Июнь', 'Июль', 'Авг', 'Сен', 'Окт', 'Ноя', 'Дек')\n",
    "plt.bar(monthes_axis, per_month_list)\n",
    "plt.figure(figsize=(20,10))\n",
    "plt.show()"
   ]
  },
  {
   "cell_type": "markdown",
   "metadata": {},
   "source": [
    "Декабрь оказался самым доходным месяцем. Сентябрь - две стипендии.\n",
    "*Сразу видно, что январь и июль - месяца после сессии, хе-хе*"
   ]
  },
  {
   "cell_type": "markdown",
   "metadata": {},
   "source": [
    "- Все уникальные наименования поступлений:"
   ]
  },
  {
   "cell_type": "code",
   "execution_count": 8,
   "metadata": {
    "pycharm": {
     "is_executing": false
    }
   },
   "outputs": [
    {
     "name": "stdout",
     "output_type": "stream",
     "text": [
      "SBOL перевод 2202****9451 Д. ВЕРОНИКА ИГОРЕВНА\n",
      "SBOL перевод 4276****1986 Я. ИННОКЕНТИЙ БОРИСОВИЧ\n",
      "SBOL перевод 5469****9296 Д. НАТАЛИЯ СЕРГЕЕВНА\n",
      "SBOL перевод 2202****4128 Г. ДИАНА РАФАИЛОВНА\n",
      "SBOL перевод 4276****8240 Д. ИГОРЬ АЛЕКСЕЕВИЧ\n",
      "SBOL перевод 5336****1487 М. ДМИТРИЙ ДМИТРИЕВИЧ\n",
      "SBOL перевод 5469****8072 Г. НИКИТА ЮРЬЕВИЧ\n",
      "SBOL перевод 2202****6569 Д. ЕЛЕНА ЮРЬЕВНА\n",
      "SBOL перевод 5469****2611 В. МАРИЯ ВЛАДИМИРОВНА\n",
      "SBOL перевод 4276****8447 Л. ЕЛИСЕЙ АЛЕКСАНДРОВИЧ\n",
      "SBOL перевод 6762****5914 К. АБДРАХМАН ТОХТИЕВИЧ\n",
      "SBOL перевод 5469****3493 А. ЕВГЕНИЙ ВИКТОРОВИЧ\n",
      "SBOL перевод 4276****8975 В. АЛИ САЛМАН ОГЛЫ\n",
      "Прочие выплаты\n",
      "Командировочные\n",
      "SBOL перевод 6390****3939 С. АНАСТАСИЯ АНДРЕЕВНА\n",
      "TINKOFF BANK\n",
      "Зачисление зарплаты\n",
      "SBOL перевод 5469****8584 Ш. АЛЕКСЕЙ АЛЕКСЕЕВИЧ\n",
      "Отпускные\n",
      "Зачисление стипендии\n",
      "SBOL перевод 4276****6357 Е. ЕКАТЕРИНА ВИКТОРОВНА\n",
      "SBOL перевод 5469****2982 М. АРТЕМ КОНСТАНТИНОВИЧ\n",
      "SBOL перевод 5469****8841 Д. ЕЛЕНА ЮРЬЕВНА\n",
      "SBOL перевод 4276****1155 Ш. ТАТЬЯНА ВЛАДИСЛАВОВНА\n",
      "SBOL перевод 2202****8636 К. ЕКАТЕРИНА ТИМОФЕЕВНА\n",
      "SBOL перевод 5469****8474 О. ВЛАДИСЛАВ ЮРЬЕВИЧ\n",
      "Расчет при увольнении\n"
     ]
    }
   ],
   "source": [
    "names = analyze.get_names(incomes_list)\n",
    "for n in names:\n",
    "    print(n)"
   ]
  },
  {
   "cell_type": "markdown",
   "metadata": {},
   "source": [
    "- Суммы по категориям:"
   ]
  },
  {
   "cell_type": "code",
   "execution_count": 9,
   "metadata": {
    "pycharm": {
     "is_executing": false
    }
   },
   "outputs": [
    {
     "name": "stdout",
     "output_type": "stream",
     "text": [
      "Стипендия : 114347\n",
      "Зарплата : 170472\n",
      "От физ. лиц : 62489\n",
      "Отпускные : 8854\n",
      "Прочее : 14400\n"
     ]
    }
   ],
   "source": [
    "incomes_by_category = analyze.count_categories(incomes_list)\n",
    "\n",
    "for k, v in incomes_by_category.items():\n",
    "    print(k,\":\", v)"
   ]
  },
  {
   "cell_type": "markdown",
   "metadata": {},
   "source": [
    "- Круговая диаграмма доходов по категориям:"
   ]
  },
  {
   "cell_type": "code",
   "execution_count": 10,
   "metadata": {
    "pycharm": {
     "is_executing": false
    }
   },
   "outputs": [
    {
     "data": {
      "image/png": "[encoded data removed]",
      "text/plain": [
       "<Figure size 432x288 with 1 Axes>"
      ]
     },
     "metadata": {},
     "output_type": "display_data"
    }
   ],
   "source": [
    "amounts = [v for v in incomes_by_category.values()]\n",
    "labels = [k for k in incomes_by_category.keys()]\n",
    "\n",
    "explode = (0.1, 0, 0, 0, 0)  # explode 1st slice\n",
    "plt.pie(amounts, labels=labels, explode=explode, autopct='%1.1f%%', shadow=True, startangle=140)\n",
    "plt.show()"
   ]
  },
  {
   "cell_type": "markdown",
   "metadata": {},
   "source": [
    "- Количество транзакций/поступлений по месяцам:\n",
    "##### Ахтунг! построения могут быть не совсем корректны, потому что февраль захватывается дважды, в 2019 и 2020 годах"
   ]
  },
  {
   "cell_type": "code",
   "execution_count": 11,
   "metadata": {
    "pycharm": {
     "is_executing": false
    }
   },
   "outputs": [
    {
     "name": "stdout",
     "output_type": "stream",
     "text": [
      "[3, 4, 6, 8, 7, 9, 3, 15, 10, 6, 8, 9]\n"
     ]
    },
    {
     "name": "stderr",
     "output_type": "stream",
     "text": [
      "d:\\pycharmprojects\\my_spends_and_incomes\\venv\\lib\\site-packages\\ipykernel_launcher.py:5: MatplotlibDeprecationWarning: Using a string of single character colors as a color sequence is deprecated. Use an explicit list instead.\n",
      "  \"\"\"\n"
     ]
    },
    {
     "data": {
      "image/png": "[encoded data removed]",
      "text/plain": [
       "<Figure size 432x288 with 1 Axes>"
      ]
     },
     "metadata": {
      "needs_background": "light"
     },
     "output_type": "display_data"
    }
   ],
   "source": [
    "transactions_per_month = analyze.transactions_per_month(incomes_list)\n",
    "print(transactions_per_month)\n",
    "\n",
    "my_colors = 'mc'*6\n",
    "plt.bar(monthes_axis, transactions_per_month, color = my_colors)\n",
    "plt.grid(color='#95a5a6', linestyle='--', linewidth=1, axis='y', alpha=0.7)\n"
   ]
  },
  {
   "cell_type": "markdown",
   "metadata": {},
   "source": [
    "- Интересует количество переводов от физ. лиц:"
   ]
  },
  {
   "cell_type": "code",
   "execution_count": 12,
   "metadata": {
    "pycharm": {
     "is_executing": false
    }
   },
   "outputs": [
    {
     "name": "stdout",
     "output_type": "stream",
     "text": [
      "[1, 0, 2, 3, 2, 3, 1, 13, 3, 2, 0, 1]\n"
     ]
    },
    {
     "data": {
      "image/png": "[encoded data removed]",
      "text/plain": [
       "<Figure size 432x288 with 1 Axes>"
      ]
     },
     "metadata": {
      "needs_background": "light"
     },
     "output_type": "display_data"
    }
   ],
   "source": [
    "transactions_from_others = analyze.transactions_per_month_from_others(incomes_list)\n",
    "print(transactions_from_others)\n",
    "\n",
    "plt.bar(monthes_axis, transactions_from_others, color = 'y')\n",
    "# plt.set_yticks(range(10, 2))\n",
    "plt.grid(color='#95a5a6', linestyle='--', linewidth=1, axis='y', alpha=0.7)"
   ]
  },
  {
   "cell_type": "markdown",
   "metadata": {},
   "source": [
    "Видно, когда Евгений больше всего развлекался)"
   ]
  },
  {
   "cell_type": "markdown",
   "metadata": {},
   "source": [
    "- Количество поступлений по суммам: \n",
    "\n",
    "\n",
    "    от 0 до 10к,\n",
    "    от 10к до 20к,\n",
    "    от 20к до 30к и\n",
    "    свыше 30 к."
   ]
  },
  {
   "cell_type": "code",
   "execution_count": 13,
   "metadata": {
    "pycharm": {
     "is_executing": false
    }
   },
   "outputs": [
    {
     "name": "stdout",
     "output_type": "stream",
     "text": [
      "(79, 8, 1, 0)\n"
     ]
    }
   ],
   "source": [
    "transactions_by_sum = analyze.num_of_incomes_less_then(incomes_list)\n",
    "print(transactions_by_sum)"
   ]
  },
  {
   "cell_type": "markdown",
   "metadata": {},
   "source": [
    "Что, в общем-то, согласуется с гарфиком Scatter. Суммы меньше 10к - это переводы друзей, всякие субсидии и стипендия. От 10 до 20 - условно зарплата. Ну а 30..."
   ]
  },
  {
   "cell_type": "code",
   "execution_count": 14,
   "metadata": {
    "pycharm": {
     "is_executing": false
    }
   },
   "outputs": [
    {
     "data": {
      "image/png": "[encoded data removed]",
      "text/plain": [
       "<Figure size 432x288 with 1 Axes>"
      ]
     },
     "metadata": {
      "needs_background": "light"
     },
     "output_type": "display_data"
    }
   ],
   "source": [
    "plt.scatter(DATES, SUMS, color='g')\n",
    "plt.grid(color='#95a5a6', linestyle='--', linewidth=1, axis='y', alpha=0.7)"
   ]
  },
  {
   "cell_type": "code",
   "execution_count": null,
   "metadata": {
    "pycharm": {
     "is_executing": false
    }
   },
   "outputs": [],
   "source": []
  }
 ],
 "metadata": {
  "kernelspec": {
   "display_name": "Python 3",
   "language": "python",
   "name": "python3"
  },
  "language_info": {
   "codemirror_mode": {
    "name": "ipython",
    "version": 3
   },
   "file_extension": ".py",
   "mimetype": "text/x-python",
   "name": "python",
   "nbconvert_exporter": "python",
   "pygments_lexer": "ipython3",
   "version": "3.7.4"
  }
 },
 "nbformat": 4,
 "nbformat_minor": 2
}
